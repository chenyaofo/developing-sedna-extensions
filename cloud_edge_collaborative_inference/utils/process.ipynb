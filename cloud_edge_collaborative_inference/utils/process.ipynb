{
 "cells": [
  {
   "cell_type": "code",
   "execution_count": 42,
   "metadata": {},
   "outputs": [],
   "source": [
    "# 读取文件并处理每行\n",
    "with open('labels.txt', 'r') as file:\n",
    "    lines = file.readlines()\n",
    "    processed_lines = []\n",
    "    labels_dic = {}\n",
    "    for line in lines:\n",
    "        # 去除空行\n",
    "        if line.strip():\n",
    "            # 保留前两个元素\n",
    "            labels_dic[line.split()[1]] = line.split()[0]\n",
    "            # print(line.split()[0],line.split()[1])\n",
    "            # print(' '.join(line.split()[:2]))\n",
    "            # processed_lines.append(' '.join(line.split()[:2]) + '\\n')"
   ]
  },
  {
   "cell_type": "code",
   "execution_count": 32,
   "metadata": {},
   "outputs": [],
   "source": [
    "import os\n",
    "import shutil\n",
    "root_dir = '/home/datasets/imagenet/val'\n",
    "fodler_dir = os.listdir(root_dir)"
   ]
  },
  {
   "cell_type": "code",
   "execution_count": 33,
   "metadata": {},
   "outputs": [],
   "source": [
    "def get_file_abs(path):\n",
    "    paths = os.listdir(path)\n",
    "    return [os.path.join(path,tmp) for tmp in paths] "
   ]
  },
  {
   "cell_type": "code",
   "execution_count": 34,
   "metadata": {},
   "outputs": [],
   "source": [
    "def copy_file(src_filepath, dest_dir):\n",
    "    shutil.copy(src_filepath, dest_dir)"
   ]
  },
  {
   "cell_type": "code",
   "execution_count": 48,
   "metadata": {},
   "outputs": [],
   "source": [
    "for folder_path in get_file_abs(root_dir):\n",
    "    cat_num = folder_path.split('/')[-1]\n",
    "    cat = labels_dic[cat_num]\n",
    "    img_path =  get_file_abs(folder_path)\n",
    "    for i in range(5):\n",
    "        copy_file(img_path[i],f'/home/zhengzekang/cloud-edge/data/{cat}_{i}.JPEG')"
   ]
  },
  {
   "cell_type": "code",
   "execution_count": 1,
   "metadata": {},
   "outputs": [
    {
     "name": "stdout",
     "output_type": "stream",
     "text": [
      "{'云边协同平均推理时间': [1.1921955352991969, 1.1453424698084742, 1.1541298230489094, 1.2194064624273955, 1.1732306219452056, 1.1477045230011442, 1.180688863963037, 1.2515160847659135, 1.164559691699583, 1.2029406075453877, 1.1701598119972951, 1.1665301192459183, 1.1438738825309336, 1.1848515716951284, 1.157005297010811, 1.2173878731419199, 1.2257724223445303, 1.208024233727906, 1.2086761780639192, 1.198491432180452], '云端平均推理时间': [0.11067246916282236, 0.10074817363302506, 0.10175749318516669, 0.12115516828660348, 0.11214038388646064, 0.10063962082364666, 0.10269996538684142, 0.15094653053663262, 0.10660462592964742, 0.10212786636542324, 0.10141364496145676, 0.099640171326215, 0.0968746249355487, 0.1091646294095623, 0.10450182981158963, 0.13750665342036764, 0.12321294599504613, 0.10270892328290797, 0.13637942461232047, 0.1187266342675508], '边端平均推理时间': [0.04954471279732624, 0.04630223079700375, 0.04592305748023797, 0.04989625802680628, 0.047348050928827545, 0.04692979238519621, 0.0479525298028443, 0.04703643191513138, 0.04737593759944783, 0.05006168849432646, 0.04874780166208448, 0.04824861483787423, 0.04712666207878151, 0.049267297953515504, 0.04897284151902839, 0.04719268267427511, 0.05014297380969299, 0.04955316420218245, 0.04675778346275216, 0.047780520880400246], '平均上传时间': [0.754060970610054, 0.7386388233051965, 0.7409801827141301, 0.7700727745075131, 0.7526333403231492, 0.7378535484200093, 0.7598995521887025, 0.7752863257678587, 0.7422375548538284, 0.7726047667697887, 0.7485924466925474, 0.7458025472081122, 0.7277703510588082, 0.750862202241053, 0.7325082335306045, 0.7617456877409522, 0.7703493673409989, 0.7755215855973276, 0.7623334856175664, 0.7594103492907623], '平均下发时间': [0.027068270972712125, 0.022701781780565557, 0.023416669807623868, 0.024068771903194598, 0.023618387345650894, 0.02357741493490798, 0.025546226928483195, 0.024984837764531226, 0.024239164086716686, 0.02373706286226339, 0.022571301578882322, 0.022188738210877374, 0.022175294249805053, 0.022135120126145397, 0.02264977450394512, 0.024106029254287037, 0.024162272315713305, 0.024503860900651164, 0.02513266084206045, 0.02347479056363082], '准确率': [0.0354, 0.0354, 0.0354, 0.0354, 0.0354, 0.0354, 0.0354, 0.0354, 0.0354, 0.0354, 0.0354, 0.0354, 0.0354, 0.0354, 0.0354, 0.0354, 0.0354, 0.0354, 0.0354, 0.0354]}\n"
     ]
    }
   ],
   "source": [
    "# 假设你的日志文件名为 log.txt\n",
    "log_file = 'record.txt'\n",
    "\n",
    "# 初始化一个空字典来存储数据\n",
    "data_dict = {}\n",
    "\n",
    "# 打开并读取日志文件\n",
    "with open(log_file, 'r', encoding='utf-8') as file:\n",
    "    for line in file:\n",
    "        line = line.strip()\n",
    "        if line:\n",
    "            # 分割标签和值\n",
    "            label, value = line.split('：')\n",
    "            value = value.rstrip(',')\n",
    "            # 将值添加到相应的标签列表中\n",
    "            if label in data_dict:\n",
    "                data_dict[label].append(float(value))\n",
    "            else:\n",
    "                data_dict[label] = [float(value)]\n",
    "\n",
    "# 打印结果字典\n",
    "print(data_dict)\n"
   ]
  },
  {
   "cell_type": "code",
   "execution_count": 3,
   "metadata": {},
   "outputs": [
    {
     "data": {
      "text/plain": [
       "dict_keys(['云边协同平均推理时间', '云端平均推理时间', '边端平均推理时间', '平均上传时间', '平均下发时间', '准确率'])"
      ]
     },
     "execution_count": 3,
     "metadata": {},
     "output_type": "execute_result"
    }
   ],
   "source": [
    "data_dict.keys()"
   ]
  },
  {
   "cell_type": "code",
   "execution_count": 4,
   "metadata": {},
   "outputs": [],
   "source": [
    "import numpy as np\n",
    "def get_mean_var(data):\n",
    "    return np.mean(data),np.std(data)"
   ]
  },
  {
   "cell_type": "code",
   "execution_count": 6,
   "metadata": {},
   "outputs": [
    {
     "name": "stdout",
     "output_type": "stream",
     "text": [
      "云边协同平均推理时间 1.185624375272153 0.029568648763048454\n",
      "云端平均推理时间 0.11198108896094175 0.014553654941197671\n",
      "边端平均推理时间 0.04810805166538675 0.0012897585449410593\n",
      "平均上传时间 0.7539582047889481 0.014219943568823726\n",
      "平均下发时间 0.02380292154663238 0.001230480165548436\n",
      "准确率 0.0354 0.0\n"
     ]
    }
   ],
   "source": [
    "for key in data_dict:\n",
    "    data = data_dict[key]\n",
    "    mean,var = get_mean_var(data)\n",
    "    print(key,mean,var)"
   ]
  },
  {
   "cell_type": "code",
   "execution_count": 2,
   "metadata": {},
   "outputs": [
    {
     "data": {
      "text/plain": [
       "[1.1921955352991969,\n",
       " 1.1453424698084742,\n",
       " 1.1541298230489094,\n",
       " 1.2194064624273955,\n",
       " 1.1732306219452056,\n",
       " 1.1477045230011442,\n",
       " 1.180688863963037,\n",
       " 1.2515160847659135,\n",
       " 1.164559691699583,\n",
       " 1.2029406075453877,\n",
       " 1.1701598119972951,\n",
       " 1.1665301192459183,\n",
       " 1.1438738825309336,\n",
       " 1.1848515716951284,\n",
       " 1.157005297010811,\n",
       " 1.2173878731419199,\n",
       " 1.2257724223445303,\n",
       " 1.208024233727906,\n",
       " 1.2086761780639192,\n",
       " 1.198491432180452]"
      ]
     },
     "execution_count": 2,
     "metadata": {},
     "output_type": "execute_result"
    }
   ],
   "source": [
    "data_dict['云边协同平均推理时间']"
   ]
  },
  {
   "cell_type": "code",
   "execution_count": null,
   "metadata": {},
   "outputs": [],
   "source": [
    "data_dict['云端平均推理时间']"
   ]
  }
 ],
 "metadata": {
  "kernelspec": {
   "display_name": "base",
   "language": "python",
   "name": "python3"
  },
  "language_info": {
   "codemirror_mode": {
    "name": "ipython",
    "version": 3
   },
   "file_extension": ".py",
   "mimetype": "text/x-python",
   "name": "python",
   "nbconvert_exporter": "python",
   "pygments_lexer": "ipython3",
   "version": "3.11.5"
  }
 },
 "nbformat": 4,
 "nbformat_minor": 2
}
