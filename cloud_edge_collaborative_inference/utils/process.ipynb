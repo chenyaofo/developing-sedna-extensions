{
 "cells": [
  {
   "cell_type": "code",
   "execution_count": 42,
   "metadata": {},
   "outputs": [],
   "source": [
    "# 读取文件并处理每行\n",
    "with open('labels.txt', 'r') as file:\n",
    "    lines = file.readlines()\n",
    "    processed_lines = []\n",
    "    labels_dic = {}\n",
    "    for line in lines:\n",
    "        # 去除空行\n",
    "        if line.strip():\n",
    "            # 保留前两个元素\n",
    "            labels_dic[line.split()[1]] = line.split()[0]\n",
    "            # print(line.split()[0],line.split()[1])\n",
    "            # print(' '.join(line.split()[:2]))\n",
    "            # processed_lines.append(' '.join(line.split()[:2]) + '\\n')"
   ]
  },
  {
   "cell_type": "code",
   "execution_count": 32,
   "metadata": {},
   "outputs": [],
   "source": [
    "import os\n",
    "import shutil\n",
    "root_dir = '/home/datasets/imagenet/val'\n",
    "fodler_dir = os.listdir(root_dir)"
   ]
  },
  {
   "cell_type": "code",
   "execution_count": 33,
   "metadata": {},
   "outputs": [],
   "source": [
    "def get_file_abs(path):\n",
    "    paths = os.listdir(path)\n",
    "    return [os.path.join(path,tmp) for tmp in paths] "
   ]
  },
  {
   "cell_type": "code",
   "execution_count": 34,
   "metadata": {},
   "outputs": [],
   "source": [
    "def copy_file(src_filepath, dest_dir):\n",
    "    shutil.copy(src_filepath, dest_dir)"
   ]
  },
  {
   "cell_type": "code",
   "execution_count": 48,
   "metadata": {},
   "outputs": [],
   "source": [
    "for folder_path in get_file_abs(root_dir):\n",
    "    cat_num = folder_path.split('/')[-1]\n",
    "    cat = labels_dic[cat_num]\n",
    "    img_path =  get_file_abs(folder_path)\n",
    "    for i in range(5):\n",
    "        copy_file(img_path[i],f'/home/zhengzekang/cloud-edge/data/{cat}_{i}.JPEG')"
   ]
  },
  {
   "cell_type": "code",
   "execution_count": 3,
   "metadata": {},
   "outputs": [
    {
     "name": "stdout",
     "output_type": "stream",
     "text": [
      "{'平均推理时间': [0.03945631292921987, 0.03811250871686793, 0.03824414779890829, 0.038613633729925205, 0.0380385076228659, 0.038846897248604996, 0.04022112177379096, 0.03898094305351599]}\n"
     ]
    }
   ],
   "source": [
    "# 假设你的日志文件名为 log.txt\n",
    "log_file = 'record.txt'\n",
    "\n",
    "# 初始化一个空字典来存储数据\n",
    "data_dict = {}\n",
    "\n",
    "# 打开并读取日志文件\n",
    "with open(log_file, 'r', encoding='utf-8') as file:\n",
    "    for line in file:\n",
    "        line = line.strip()\n",
    "        if line:\n",
    "            # 分割标签和值\n",
    "            line = line.split(',')[0]\n",
    "            label, value = line.split('：')\n",
    "            value = value.rstrip(',')\n",
    "            # 将值添加到相应的标签列表中\n",
    "            if label in data_dict:\n",
    "                data_dict[label].append(float(value))\n",
    "            else:\n",
    "                data_dict[label] = [float(value)]\n",
    "\n",
    "# 打印结果字典\n",
    "print(data_dict)\n"
   ]
  },
  {
   "cell_type": "code",
   "execution_count": 4,
   "metadata": {},
   "outputs": [
    {
     "data": {
      "text/plain": [
       "dict_keys(['平均推理时间'])"
      ]
     },
     "execution_count": 4,
     "metadata": {},
     "output_type": "execute_result"
    }
   ],
   "source": [
    "data_dict.keys()"
   ]
  },
  {
   "cell_type": "code",
   "execution_count": 5,
   "metadata": {},
   "outputs": [],
   "source": [
    "import numpy as np\n",
    "def get_mean_var(data):\n",
    "    return np.mean(data),np.std(data)"
   ]
  },
  {
   "cell_type": "code",
   "execution_count": 6,
   "metadata": {},
   "outputs": [
    {
     "name": "stdout",
     "output_type": "stream",
     "text": [
      "平均推理时间 0.03881425910921239 0.0006964073772654647\n"
     ]
    }
   ],
   "source": [
    "for key in data_dict:\n",
    "    data = data_dict[key]\n",
    "    mean,var = get_mean_var(data)\n",
    "    print(key,mean,var)"
   ]
  }
 ],
 "metadata": {
  "kernelspec": {
   "display_name": "base",
   "language": "python",
   "name": "python3"
  },
  "language_info": {
   "codemirror_mode": {
    "name": "ipython",
    "version": 3
   },
   "file_extension": ".py",
   "mimetype": "text/x-python",
   "name": "python",
   "nbconvert_exporter": "python",
   "pygments_lexer": "ipython3",
   "version": "3.11.5"
  }
 },
 "nbformat": 4,
 "nbformat_minor": 2
}
